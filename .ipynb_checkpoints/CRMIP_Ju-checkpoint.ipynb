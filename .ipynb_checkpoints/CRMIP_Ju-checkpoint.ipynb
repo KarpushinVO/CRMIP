{
 "cells": [
  {
   "cell_type": "markdown",
   "source": [
    "# Исследование взаимовлияния скважин"
   ],
   "metadata": {
    "collapsed": false
   }
  },
  {
   "cell_type": "markdown",
   "source": [
    "## CRMIP модель"
   ],
   "metadata": {
    "collapsed": false
   }
  },
  {
   "cell_type": "markdown",
   "source": [
    "CRM или емкостно-резистивная модель основывается на уравнении материального баланса и формуле Дюпюи позволяя быстро получать значения межскважинной интерференции.\n",
    "Теория модели берет свое начало из электротехники и утверждает, что \"выходная характеристика системы в первую очередь зависит от входного сигнала и сопротивления в системе\".\n"
   ],
   "metadata": {
    "collapsed": false
   }
  },
  {
   "cell_type": "markdown",
   "source": [
    "## Импорт необходимых библиотек"
   ],
   "metadata": {
    "collapsed": false
   }
  },
  {
   "cell_type": "markdown",
   "source": [
    "В данном проекте я постарался исползовать минимум сторонних библиотек и ограничеться только одной дополнительной SciPy, чтобы использовать метод оптимизации (минимизации разницы и поиска коэффициентов для самой модели)."
   ],
   "metadata": {
    "collapsed": false
   }
  },
  {
   "cell_type": "code",
   "execution_count": 70,
   "outputs": [],
   "source": [
    "import math\n",
    "import scipy\n",
    "from openpyxl import load_workbook"
   ],
   "metadata": {
    "collapsed": false
   }
  },
  {
   "cell_type": "markdown",
   "source": [
    "### Объявляем необходимые переменные для работы"
   ],
   "metadata": {
    "collapsed": false
   }
  },
  {
   "cell_type": "code",
   "execution_count": 71,
   "outputs": [],
   "source": [
    "wb = load_workbook(r\"technical_data2.xlsx\")\n",
    "sheet = wb.worksheets[0] # Атрибут для книги эксель\n",
    "inj_amount = 0 # Количество нагнетательных скважин\n",
    "prod_amount = 0 # Количество добывающих скважин\n",
    "f = {} # Коэффициент взаимовлияния\n",
    "tau = {} # Коэффициент временного лага\n",
    "qliq0 = {} # Начальные дебиты\n",
    "inj_wells_rates = {} # Словарь ключи имена скважин, значения данные по закачке # TODO: Можно оставить как локальну переменную в методе\n",
    "prod_wells_rates = {} # Данные по добыче # TODO: Можно  оставить как локальную переменную в методе\n",
    "prod_CRM = {} # Об\n",
    "MSE = {}\n",
    "sum_prod_CRM = {} # Сумма всех CRM моделей (равна количеству добывающих скважин)\n",
    "time = [] # Время, в целом оно не нужно - есть количество строк, то есть шагов \"К\""
   ],
   "metadata": {
    "collapsed": false
   }
  },
  {
   "cell_type": "markdown",
   "source": [
    "### Функция распределение параметров и значений по словорям"
   ],
   "metadata": {
    "collapsed": false
   }
  },
  {
   "cell_type": "code",
   "execution_count": 72,
   "outputs": [],
   "source": [
    "#def amount_of_params(sheet, inj_amount, prod_amount, prod_wells_rates, inj_wells_rates): # TODO: Мне кажется всю эту функцию можно оставить в init\n",
    "for i in range(2, sheet.max_row):\n",
    "    time.append(sheet[i][0].value)\n",
    "for column in range(1, sheet.max_column):\n",
    "    q_data = [] #временная переменная для добавления расходов доб/нагн скважин\n",
    "    # Идем по листу и добавляем информацию в словари\n",
    "    if 'INJ' in sheet[1][column].value:\n",
    "        inj_amount += 1\n",
    "        for i in range(2, sheet.max_row):\n",
    "            q_data.append(sheet[i][column].value)\n",
    "        inj_wells_rates.update({sheet[1][column].value: q_data})\n",
    "    else:\n",
    "        prod_amount += 1\n",
    "        for i in range(2, sheet.max_row):\n",
    "            q_data.append(sheet[i][column].value)\n",
    "        prod_wells_rates.update({sheet[1][column].value: q_data})\n",
    "        MSE.update({'MSE ' + sheet[1][column].value: None})\n",
    "# Создаем словари с нужными параметрами и названиями CRM-скважин-моделей\n",
    "for i in prod_wells_rates:\n",
    "    for j in inj_wells_rates:\n",
    "        f.update({'f_' + str(i[5::]) +  ' ' + str(j[4::]): None})\n",
    "        tau.update({'tau_' + str(i[5::]) + ' ' + str(j[4::]): None})\n",
    "        qliq0.update({'qliq0_' + str(i[5::]) +  ' ' + str(j[4::]): None})\n",
    "        prod_CRM.update({i[5::] + ' & ' + j[4::]: []})\n",
    "#return f"
   ],
   "metadata": {
    "collapsed": false
   }
  },
  {
   "cell_type": "markdown",
   "source": [
    "### Функция автоматического создания начальных параметров"
   ],
   "metadata": {
    "collapsed": false
   }
  },
  {
   "cell_type": "code",
   "execution_count": 73,
   "outputs": [],
   "source": [
    "for i in f:\n",
    "    f[i] = round(1/inj_amount, 2)    #Задаем начальные значения для tau # TODO: не обновляет глобальные переменные из-за того, что делаем не через классы\n",
    "for i in tau:\n",
    "    tau[i] = 100    #Задаем начельные условия для qliq0\n",
    "automatic_initial_qliq0 = list(qliq0.keys()) #Нужно задать правильную размерность для массива\n",
    "step = len(automatic_initial_qliq0) // prod_amount\n",
    "q_0 = [] # Временная переменная, чтобы передать первые значения из дебитов скважин и распределить их потом по стартовым дебитам CRM скважин\n",
    "for i in prod_wells_rates:\n",
    "    q_0.append(prod_wells_rates[i][0] // step)\n",
    "boundary2 = step\n",
    "boundary1 = 0\n",
    "for i in range(0, len(q_0)):\n",
    "    for j in range(boundary1, boundary2):\n",
    "        automatic_initial_qliq0[j] = q_0[i]\n",
    "    boundary2 += step\n",
    "    boundary1 += step\n",
    "qliq0 = {i: j for i, j in zip(list(qliq0.keys()), automatic_initial_qliq0)}"
   ],
   "metadata": {
    "collapsed": false
   }
  },
  {
   "cell_type": "code",
   "execution_count": 74,
   "outputs": [],
   "source": [
    "def differ(list1, list2):\n",
    "    MSE = [(i + j) ** 2 for i, j in zip(list1, list2)] # TODO: Разве тут не минус вместо плюса должен быть?\n",
    "    return sum(MSE)/len(MSE)"
   ],
   "metadata": {
    "collapsed": false
   }
  },
  {
   "cell_type": "code",
   "execution_count": 75,
   "outputs": [
    {
     "data": {
      "text/plain": "35"
     },
     "execution_count": 75,
     "metadata": {},
     "output_type": "execute_result"
    }
   ],
   "source": [
    "len(list(prod_wells_rates.values())[1])"
   ],
   "metadata": {
    "collapsed": false
   }
  },
  {
   "cell_type": "code",
   "execution_count": 76,
   "outputs": [
    {
     "name": "stdout",
     "output_type": "stream",
     "text": [
      "35\n",
      "35\n"
     ]
    }
   ],
   "source": [
    "#def crm_calculate(q_input, tau_input, f_input):\n",
    "list_length = len(list(qliq0.values())) #временная переменная для создания списка параметров на вход\n",
    "\n",
    "\n",
    "for i, j in enumerate(prod_CRM):\n",
    "    prod_CRM[j].append(list(qliq0.values())[i]) #В пустой словарь добавляет начальные значения для последующего расчета\n",
    "\n",
    "for i, j in enumerate(tau):\n",
    "    #Значение по ключу j равно значению из тау инпут\n",
    "    tau[j] = list(tau.values())[i]\n",
    "\n",
    "for i, j in enumerate(f):\n",
    "    f[j] = list(f.values())[i]\n",
    "# Расчет дебитов самих по всем трем переменным\n",
    "\n",
    "\n",
    "\n",
    "for well_i, tau_i, f_i in zip(prod_CRM, tau, f):\n",
    "    for i in range(1, len(time)): # TODO: проверить по последнему значению входит ли\n",
    "        prod_CRM[well_i].append(round(prod_CRM[well_i][i-1] * math.exp(-(i - (i-1))/tau[tau_i]) + (1 - math.exp(-(i - (i-1))/tau[tau_i])) * f[f_i], 1))\n",
    "sum_prod_CRM = sum_prod_CRM.fromkeys(list(prod_wells_rates.keys()), []) # Здесь просто создается словарь CRM моделей скважин по существующим реальным скважинам\n",
    "step = len(list(prod_CRM.values())) // prod_amount\n",
    "boundary2 = step\n",
    "boundary1 = 0\n",
    "#print(list(prod_CRM.keys()))\n",
    "for i in sum_prod_CRM:\n",
    "    #print(list(prod_CRM.values())[boundary1:boundary2])\n",
    "    sum_prod_CRM[i] = list(map(sum, zip(*list(prod_CRM.values())[boundary1:boundary2])))  # Здесь неправильно (диапазон по индексам листа) суммируются CRM модели добывающих скважин по нагнетательным (их же несколько) и получают одну CRM на одну добывающую. Суммируются шагом.\n",
    "    boundary2 += step\n",
    "    boundary1 += step\n",
    "    print(len(sum_prod_CRM[i]))\n",
    "# Подсчет невязки\n",
    "\n"
   ],
   "metadata": {
    "collapsed": false
   }
  },
  {
   "cell_type": "code",
   "execution_count": 77,
   "outputs": [],
   "source": [
    "def MSE_func(MSE, sum_prod_CRM, prod_wells_rates):\n",
    "    for i, j, k in zip(MSE, sum_prod_CRM, prod_wells_rates):\n",
    "        MSE[i] = round(differ(sum_prod_CRM[j], prod_wells_rates[k]), 3)\n",
    "    return sum(MSE.values())"
   ],
   "metadata": {
    "collapsed": false
   }
  },
  {
   "cell_type": "code",
   "execution_count": 78,
   "outputs": [
    {
     "data": {
      "text/plain": "9494793.467"
     },
     "execution_count": 78,
     "metadata": {},
     "output_type": "execute_result"
    }
   ],
   "source": [
    "z = MSE_func(MSE, sum_prod_CRM, prod_wells_rates)\n",
    "z"
   ],
   "metadata": {
    "collapsed": false
   }
  },
  {
   "cell_type": "code",
   "execution_count": 79,
   "outputs": [
    {
     "data": {
      "text/plain": "({'MSE PROD PH12': 947397.035, 'MSE PROD IH3': 8547396.432},\n {'PROD PH12': [532.0,\n   526.8,\n   521.6,\n   516.4,\n   511.2,\n   506.2,\n   501.2,\n   496.2,\n   491.2,\n   486.4,\n   481.6,\n   476.8,\n   472.0,\n   467.4,\n   462.8,\n   458.2,\n   453.6,\n   449.0,\n   444.6,\n   440.2,\n   435.8,\n   431.4,\n   427.2,\n   423.0,\n   418.8,\n   414.6,\n   410.4,\n   406.4,\n   402.4,\n   398.4,\n   394.4,\n   390.4,\n   386.6,\n   382.8,\n   379.0],\n  'PROD IH3': [1576.0,\n   1560.4,\n   1544.8,\n   1529.4,\n   1514.2,\n   1499.2,\n   1484.2,\n   1469.4,\n   1454.8,\n   1440.4,\n   1426.0,\n   1411.8,\n   1397.8,\n   1384.0,\n   1370.2,\n   1356.6,\n   1343.2,\n   1329.8,\n   1316.6,\n   1303.6,\n   1290.6,\n   1277.8,\n   1265.0,\n   1252.4,\n   1240.0,\n   1227.6,\n   1215.4,\n   1203.4,\n   1191.4,\n   1179.6,\n   1167.8,\n   1156.2,\n   1144.8,\n   1133.4,\n   1122.2]},\n {'PROD PH12': [533.01,\n   533.41,\n   534.59,\n   534.59,\n   535.06,\n   534.56,\n   538,\n   539.73,\n   518.24,\n   515.33,\n   516.1,\n   516.28,\n   517.74,\n   519.93,\n   521.66,\n   521.95,\n   510.04,\n   511.68,\n   512.48,\n   513.15,\n   511.55,\n   512.36,\n   513.84,\n   515.67,\n   517.27,\n   519.56,\n   512.1,\n   512.2,\n   512.63,\n   518.91,\n   519.76,\n   517.14,\n   511.33,\n   525.19,\n   525.19],\n  'PROD IH3': [1576.225,\n   1576.919,\n   1577.85,\n   1577.648,\n   1577.648,\n   1577.401,\n   1576.46,\n   1578.892,\n   1580.079,\n   1579.351,\n   1580.516,\n   1584.461,\n   1582.146,\n   1581.431,\n   1583.354,\n   1584.551,\n   1585.009,\n   1583.89,\n   1584.93,\n   1585.836,\n   1589.634,\n   1587.198,\n   1588.298,\n   1589.612,\n   1591.34,\n   1590.958,\n   1591.026,\n   1592.047,\n   1583.619,\n   1586.944,\n   1587.993,\n   1578.365,\n   1593.048,\n   1592.434,\n   1586.732]})"
     },
     "execution_count": 79,
     "metadata": {},
     "output_type": "execute_result"
    }
   ],
   "source": [
    "(MSE, sum_prod_CRM, prod_wells_rates)"
   ],
   "metadata": {
    "collapsed": false
   }
  },
  {
   "cell_type": "code",
   "execution_count": 80,
   "outputs": [
    {
     "ename": "TypeError",
     "evalue": "minimize() missing 1 required positional argument: 'x0'",
     "output_type": "error",
     "traceback": [
      "\u001B[1;31m---------------------------------------------------------------------------\u001B[0m",
      "\u001B[1;31mTypeError\u001B[0m                                 Traceback (most recent call last)",
      "Cell \u001B[1;32mIn[80], line 1\u001B[0m\n\u001B[1;32m----> 1\u001B[0m result \u001B[38;5;241m=\u001B[39m \u001B[43mscipy\u001B[49m\u001B[38;5;241;43m.\u001B[39;49m\u001B[43moptimize\u001B[49m\u001B[38;5;241;43m.\u001B[39;49m\u001B[43mminimize\u001B[49m\u001B[43m(\u001B[49m\u001B[43mMSE_func\u001B[49m\u001B[43m)\u001B[49m\n",
      "\u001B[1;31mTypeError\u001B[0m: minimize() missing 1 required positional argument: 'x0'"
     ]
    }
   ],
   "source": [
    "result = scipy.optimize.minimize(MSE_func)"
   ],
   "metadata": {
    "collapsed": false
   }
  },
  {
   "cell_type": "code",
   "execution_count": null,
   "outputs": [],
   "source": [],
   "metadata": {
    "collapsed": false
   }
  }
 ],
 "metadata": {
  "kernelspec": {
   "display_name": "Python 3",
   "language": "python",
   "name": "python3"
  },
  "language_info": {
   "codemirror_mode": {
    "name": "ipython",
    "version": 2
   },
   "file_extension": ".py",
   "mimetype": "text/x-python",
   "name": "python",
   "nbconvert_exporter": "python",
   "pygments_lexer": "ipython2",
   "version": "2.7.6"
  }
 },
 "nbformat": 4,
 "nbformat_minor": 0
}
