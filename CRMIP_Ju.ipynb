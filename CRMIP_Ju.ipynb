{
 "cells": [
  {
   "cell_type": "markdown",
   "metadata": {
    "collapsed": false,
    "jupyter": {
     "outputs_hidden": false
    }
   },
   "source": [
    "# Исследование взаимовлияния скважин"
   ]
  },
  {
   "cell_type": "markdown",
   "metadata": {
    "collapsed": false,
    "jupyter": {
     "outputs_hidden": false
    }
   },
   "source": [
    "## CRMIP модель"
   ]
  },
  {
   "cell_type": "markdown",
   "metadata": {
    "collapsed": false,
    "jupyter": {
     "outputs_hidden": false
    }
   },
   "source": [
    "CRM или емкостно-резистивная модель основывается на уравнении материального баланса и формуле Дюпюи позволяя быстро получать значения межскважинной интерференции.\n",
    "Теория модели берет свое начало из электротехники и утверждает, что \"выходная характеристика системы в первую очередь зависит от входного сигнала и сопротивления в системе\".\n"
   ]
  },
  {
   "cell_type": "markdown",
   "metadata": {
    "collapsed": false,
    "jupyter": {
     "outputs_hidden": false
    }
   },
   "source": [
    "## Импорт необходимых библиотек"
   ]
  },
  {
   "cell_type": "markdown",
   "metadata": {
    "collapsed": false,
    "jupyter": {
     "outputs_hidden": false
    }
   },
   "source": [
    "В данном проекте я постарался исползовать минимум сторонних библиотек и ограничеться только одной дополнительной SciPy, чтобы использовать метод оптимизации (минимизации разницы и поиска коэффициентов для самой модели)."
   ]
  },
  {
   "cell_type": "code",
   "execution_count": 1,
   "metadata": {
    "collapsed": false,
    "jupyter": {
     "outputs_hidden": false
    }
   },
   "outputs": [],
   "source": [
    "import math\n",
    "import scipy\n",
    "from openpyxl import load_workbook"
   ]
  },
  {
   "cell_type": "markdown",
   "metadata": {
    "collapsed": false,
    "jupyter": {
     "outputs_hidden": false
    }
   },
   "source": [
    "### Объявляем необходимые переменные для работы"
   ]
  },
  {
   "cell_type": "code",
   "execution_count": 2,
   "metadata": {
    "collapsed": false,
    "jupyter": {
     "outputs_hidden": false
    }
   },
   "outputs": [],
   "source": [
    "wb = load_workbook(r\"technical_data2.xlsx\")\n",
    "sheet = wb.worksheets[0] # Атрибут для книги эксель\n",
    "inj_amount = 0 # Количество нагнетательных скважин\n",
    "prod_amount = 0 # Количество добывающих скважин\n",
    "f = {} # Коэффициент взаимовлияния\n",
    "tau = {} # Коэффициент временного лага\n",
    "qliq0 = {} # Начальные дебиты\n",
    "inj_wells_rates = {} # Словарь ключи имена скважин, значения данные по закачке # TODO: Можно оставить как локальну переменную в методе\n",
    "prod_wells_rates = {} # Данные по добыче # TODO: Можно  оставить как локальную переменную в методе\n",
    "prod_CRM = {} # Об\n",
    "MSE = {}\n",
    "sum_prod_CRM = {} # Сумма всех CRM моделей (равна количеству добывающих скважин)\n",
    "time = [] # Время, в целом оно не нужно - есть количество строк, то есть шагов \"К\""
   ]
  },
  {
   "cell_type": "markdown",
   "metadata": {
    "collapsed": false,
    "jupyter": {
     "outputs_hidden": false
    }
   },
   "source": [
    "### Функция распределение параметров и значений по словорям"
   ]
  },
  {
   "cell_type": "code",
   "execution_count": 3,
   "metadata": {
    "collapsed": false,
    "jupyter": {
     "outputs_hidden": false
    }
   },
   "outputs": [],
   "source": [
    "#def amount_of_params(sheet, inj_amount, prod_amount, prod_wells_rates, inj_wells_rates): # TODO: Мне кажется всю эту функцию можно оставить в init\n",
    "for i in range(2, sheet.max_row):\n",
    "    time.append(sheet[i][0].value)\n",
    "for column in range(1, sheet.max_column):\n",
    "    q_data = [] #временная переменная для добавления расходов доб/нагн скважин\n",
    "    # Идем по листу и добавляем информацию в словари\n",
    "    if 'INJ' in sheet[1][column].value:\n",
    "        inj_amount += 1\n",
    "        for i in range(2, sheet.max_row):\n",
    "            q_data.append(sheet[i][column].value)\n",
    "        inj_wells_rates.update({sheet[1][column].value: q_data})\n",
    "    else:\n",
    "        prod_amount += 1\n",
    "        for i in range(2, sheet.max_row):\n",
    "            q_data.append(sheet[i][column].value)\n",
    "        prod_wells_rates.update({sheet[1][column].value: q_data})\n",
    "        MSE.update({'MSE ' + sheet[1][column].value: None})\n",
    "# Создаем словари с нужными параметрами и названиями CRM-скважин-моделей\n",
    "for i in prod_wells_rates:\n",
    "    for j in inj_wells_rates:\n",
    "        f.update({'f_' + str(i[5::]) +  ' ' + str(j[4::]): None})\n",
    "        tau.update({'tau_' + str(i[5::]) + ' ' + str(j[4::]): None})\n",
    "        qliq0.update({'qliq0_' + str(i[5::]) +  ' ' + str(j[4::]): None})\n",
    "        prod_CRM.update({i[5::] + ' & ' + j[4::]: []})\n",
    "#return f"
   ]
  },
  {
   "cell_type": "markdown",
   "metadata": {
    "collapsed": false,
    "jupyter": {
     "outputs_hidden": false
    }
   },
   "source": [
    "### Функция автоматического создания начальных параметров"
   ]
  },
  {
   "cell_type": "code",
   "execution_count": 14,
   "metadata": {
    "collapsed": false,
    "jupyter": {
     "outputs_hidden": false
    }
   },
   "outputs": [
    {
     "name": "stdout",
     "output_type": "stream",
     "text": [
      "INJ PH7\n",
      "INJ IH4\n"
     ]
    }
   ],
   "source": [
    "for i in inj_wells_rates:\n",
    "    print(i, inj_wells_rates[i], end='\\n')"
   ]
  },
  {
   "cell_type": "code",
   "execution_count": 4,
   "outputs": [
    {
     "data": {
      "text/plain": "{'qliq0_PH12 PH7': None,\n 'qliq0_PH12 IH4': None,\n 'qliq0_IH3 PH7': None,\n 'qliq0_IH3 IH4': None}"
     },
     "execution_count": 4,
     "metadata": {},
     "output_type": "execute_result"
    }
   ],
   "source": [
    "qliq0"
   ],
   "metadata": {
    "collapsed": false
   }
  },
  {
   "cell_type": "code",
   "execution_count": 5,
   "metadata": {
    "collapsed": false,
    "jupyter": {
     "outputs_hidden": false
    }
   },
   "outputs": [],
   "source": [
    "def differ(list1, list2):\n",
    "    MSE = [(i + j) ** 2 for i, j in zip(list1, list2)] # TODO: Разве тут не минус вместо плюса должен быть?\n",
    "    return sum(MSE)/len(MSE)"
   ]
  },
  {
   "cell_type": "code",
   "execution_count": 6,
   "outputs": [
    {
     "data": {
      "text/plain": "({'qliq0_PH12 PH7': None,\n  'qliq0_PH12 IH4': None,\n  'qliq0_IH3 PH7': None,\n  'qliq0_IH3 IH4': None},\n {'tau_PH12 PH7': None,\n  'tau_PH12 IH4': None,\n  'tau_IH3 PH7': None,\n  'tau_IH3 IH4': None},\n {'f_PH12 PH7': None,\n  'f_PH12 IH4': None,\n  'f_IH3 PH7': None,\n  'f_IH3 IH4': None},\n {})"
     },
     "execution_count": 6,
     "metadata": {},
     "output_type": "execute_result"
    }
   ],
   "source": [
    "qliq0, tau, f, sum_prod_CRM"
   ],
   "metadata": {
    "collapsed": false
   }
  },
  {
   "cell_type": "code",
   "execution_count": 9,
   "outputs": [],
   "source": [
    "tau_input = [500.01, 434.24, 116, 1111]"
   ],
   "metadata": {
    "collapsed": false
   }
  },
  {
   "cell_type": "code",
   "execution_count": 11,
   "outputs": [],
   "source": [
    "for i, j in enumerate(tau):\n",
    "    # Значение по ключу j равно значению из тау инпут\n",
    "    tau[j] = tau_input[i]"
   ],
   "metadata": {
    "collapsed": false
   }
  },
  {
   "cell_type": "code",
   "execution_count": 12,
   "outputs": [
    {
     "data": {
      "text/plain": "{'tau_PH12 PH7': 500.01,\n 'tau_PH12 IH4': 434.24,\n 'tau_IH3 PH7': 116,\n 'tau_IH3 IH4': 1111}"
     },
     "execution_count": 12,
     "metadata": {},
     "output_type": "execute_result"
    }
   ],
   "source": [
    "tau"
   ],
   "metadata": {
    "collapsed": false
   }
  },
  {
   "cell_type": "code",
   "execution_count": null,
   "outputs": [],
   "source": [],
   "metadata": {
    "collapsed": false
   }
  },
  {
   "cell_type": "code",
   "execution_count": 7,
   "metadata": {
    "collapsed": false,
    "jupyter": {
     "outputs_hidden": false
    }
   },
   "outputs": [],
   "source": [
    "def crm_calculate(in_package):\n",
    "\n",
    "    global qliq0\n",
    "\n",
    "    global sum_prod_CRM\n",
    "\n",
    "    list_length = len(qliq0)\n",
    "    q_input = in_package[0:list_length]\n",
    "    tau_input = in_package[list_length: list_length * 2]\n",
    "    f_input = in_package[list_length * 2: list_length * 3]\n",
    "\n",
    "\n",
    "    for i, j in enumerate(prod_CRM):\n",
    "        prod_CRM[j].append(list(qliq0.values())[i]) #В пустой словарь добавляет начальные значения для последующего расчета\n",
    "\n",
    "    for i, j in enumerate(tau):\n",
    "        #Значение по ключу j равно значению из тау инпут\n",
    "        tau[j] = list(tau.values())[i]\n",
    "\n",
    "    for i, j in enumerate(f):\n",
    "        f[j] = list(f.values())[i]\n",
    "    # Расчет дебитов самих по всем трем переменным\n",
    "\n",
    "\n",
    "    for well_i, tau_i, f_i in zip(prod_CRM, tau, f):\n",
    "        for i in range(1, len(time)): # TODO: проверить по последнему значению входит ли\n",
    "            prod_CRM[well_i].append(round(prod_CRM[well_i][i-1] * math.exp(-(i - (i-1))/tau[tau_i]) + (1 - math.exp(-(i - (i-1))/tau[tau_i])) * f[f_i], 1))\n",
    "    sum_prod_CRM = sum_prod_CRM.fromkeys(list(prod_wells_rates.keys()), []) # Здесь просто создается словарь CRM моделей скважин по существующим реальным скважинам\n",
    "    step = len(list(prod_CRM.values())) // prod_amount\n",
    "    boundary2 = step\n",
    "    boundary1 = 0\n",
    "    #print(list(prod_CRM.keys()))\n",
    "    for i in sum_prod_CRM:\n",
    "        #print(list(prod_CRM.values())[boundary1:boundary2])\n",
    "        sum_prod_CRM[i] = list(map(sum, zip(*list(prod_CRM.values())[boundary1:boundary2])))  # Здесь неправильно (диапазон по индексам листа) суммируются CRM модели добывающих скважин по нагнетательным (их же несколько) и получают одну CRM на одну добывающую. Суммируются шагом.\n",
    "        boundary2 += step\n",
    "        boundary1 += step\n",
    "\n",
    "    for i, j, k in zip(MSE, sum_prod_CRM, prod_wells_rates):\n",
    "        MSE[i] = round(differ(sum_prod_CRM[j], prod_wells_rates[k]), 3)\n",
    "\n",
    "    return sum(MSE.values())"
   ]
  },
  {
   "cell_type": "code",
   "execution_count": 7,
   "outputs": [],
   "source": [],
   "metadata": {
    "collapsed": false
   }
  },
  {
   "cell_type": "code",
   "execution_count": 8,
   "metadata": {
    "collapsed": false,
    "jupyter": {
     "outputs_hidden": false
    }
   },
   "outputs": [
    {
     "ename": "TypeError",
     "evalue": "minimize() missing 1 required positional argument: 'x0'",
     "output_type": "error",
     "traceback": [
      "\u001B[1;31m---------------------------------------------------------------------------\u001B[0m",
      "\u001B[1;31mTypeError\u001B[0m                                 Traceback (most recent call last)",
      "Cell \u001B[1;32mIn[8], line 1\u001B[0m\n\u001B[1;32m----> 1\u001B[0m result \u001B[38;5;241m=\u001B[39m \u001B[43mscipy\u001B[49m\u001B[38;5;241;43m.\u001B[39;49m\u001B[43moptimize\u001B[49m\u001B[38;5;241;43m.\u001B[39;49m\u001B[43mminimize\u001B[49m\u001B[43m(\u001B[49m\u001B[43mcrm_calculate\u001B[49m\u001B[43m)\u001B[49m\n",
      "\u001B[1;31mTypeError\u001B[0m: minimize() missing 1 required positional argument: 'x0'"
     ]
    }
   ],
   "source": [
    "result = scipy.optimize.minimize(crm_calculate)"
   ]
  }
 ],
 "metadata": {
  "kernelspec": {
   "display_name": "Python 3 (ipykernel)",
   "language": "python",
   "name": "python3"
  },
  "language_info": {
   "codemirror_mode": {
    "name": "ipython",
    "version": 3
   },
   "file_extension": ".py",
   "mimetype": "text/x-python",
   "name": "python",
   "nbconvert_exporter": "python",
   "pygments_lexer": "ipython3",
   "version": "3.11.1"
  }
 },
 "nbformat": 4,
 "nbformat_minor": 4
}
